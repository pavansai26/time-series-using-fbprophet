{
  "nbformat": 4,
  "nbformat_minor": 0,
  "metadata": {
    "colab": {
      "name": "time series using fbprophet.ipynb",
      "provenance": [],
      "private_outputs": true,
      "authorship_tag": "ABX9TyPVd0t+cAWW8/rJp95ApVp7",
      "include_colab_link": true
    },
    "kernelspec": {
      "name": "python3",
      "display_name": "Python 3"
    },
    "accelerator": "GPU"
  },
  "cells": [
    {
      "cell_type": "markdown",
      "metadata": {
        "id": "view-in-github",
        "colab_type": "text"
      },
      "source": [
        "<a href=\"https://colab.research.google.com/github/pavansai26/time-series-using-fbprophet/blob/master/time_series_using_fbprophet.ipynb\" target=\"_parent\"><img src=\"https://colab.research.google.com/assets/colab-badge.svg\" alt=\"Open In Colab\"/></a>"
      ]
    },
    {
      "cell_type": "code",
      "metadata": {
        "id": "Isadc7s-PSJt",
        "colab_type": "code",
        "colab": {}
      },
      "source": [
        "pip install fbprophet"
      ],
      "execution_count": 0,
      "outputs": []
    },
    {
      "cell_type": "code",
      "metadata": {
        "id": "NRCF9yyaRkO7",
        "colab_type": "code",
        "colab": {}
      },
      "source": [
        "pip install pystan"
      ],
      "execution_count": 0,
      "outputs": []
    },
    {
      "cell_type": "code",
      "metadata": {
        "id": "ujxTrk1DRvLE",
        "colab_type": "code",
        "colab": {}
      },
      "source": [
        "import pandas as pd\n"
      ],
      "execution_count": 0,
      "outputs": []
    },
    {
      "cell_type": "code",
      "metadata": {
        "id": "80zZ_MFpSAbV",
        "colab_type": "code",
        "colab": {}
      },
      "source": [
        "import numpy as np\n"
      ],
      "execution_count": 0,
      "outputs": []
    },
    {
      "cell_type": "code",
      "metadata": {
        "id": "i8aRajtKSC5u",
        "colab_type": "code",
        "colab": {}
      },
      "source": [
        "import matplotlib.pyplot as plt\n"
      ],
      "execution_count": 0,
      "outputs": []
    },
    {
      "cell_type": "code",
      "metadata": {
        "id": "3nQ-MPFBSFCL",
        "colab_type": "code",
        "colab": {}
      },
      "source": [
        "import fbprophet"
      ],
      "execution_count": 0,
      "outputs": []
    },
    {
      "cell_type": "code",
      "metadata": {
        "id": "Fe38e6K_SM1A",
        "colab_type": "code",
        "colab": {}
      },
      "source": [
        "dir(fbprophet)"
      ],
      "execution_count": 0,
      "outputs": []
    },
    {
      "cell_type": "code",
      "metadata": {
        "id": "bIs6w2NPrDGZ",
        "colab_type": "code",
        "colab": {}
      },
      "source": [
        "from google.colab import drive\n",
        "drive.mount('/gdrive')"
      ],
      "execution_count": 0,
      "outputs": []
    },
    {
      "cell_type": "code",
      "metadata": {
        "id": "S48h_GL7SWHN",
        "colab_type": "code",
        "colab": {}
      },
      "source": [
        "df=pd.read_excel('/gdrive/My Drive/flights.csv.xlsx')"
      ],
      "execution_count": 0,
      "outputs": []
    },
    {
      "cell_type": "code",
      "metadata": {
        "id": "uK0vjdEpTmZM",
        "colab_type": "code",
        "colab": {}
      },
      "source": [
        "df"
      ],
      "execution_count": 0,
      "outputs": []
    },
    {
      "cell_type": "code",
      "metadata": {
        "id": "M8OJGLiMuOdG",
        "colab_type": "code",
        "colab": {}
      },
      "source": [
        "df.iloc[:,0]"
      ],
      "execution_count": 0,
      "outputs": []
    },
    {
      "cell_type": "code",
      "metadata": {
        "id": "M_Pnm21wusEe",
        "colab_type": "code",
        "colab": {}
      },
      "source": [
        "df.iloc[:,-1]"
      ],
      "execution_count": 0,
      "outputs": []
    },
    {
      "cell_type": "code",
      "metadata": {
        "id": "nTJdUEfVwYov",
        "colab_type": "code",
        "colab": {}
      },
      "source": [
        "df2=df[['date','no.of flights']]"
      ],
      "execution_count": 0,
      "outputs": []
    },
    {
      "cell_type": "code",
      "metadata": {
        "id": "7Xldw2tVxeVq",
        "colab_type": "code",
        "colab": {}
      },
      "source": [
        "df2"
      ],
      "execution_count": 0,
      "outputs": []
    },
    {
      "cell_type": "code",
      "metadata": {
        "id": "XbBXmi0cxgJq",
        "colab_type": "code",
        "colab": {}
      },
      "source": [
        "df2.plot()"
      ],
      "execution_count": 0,
      "outputs": []
    },
    {
      "cell_type": "code",
      "metadata": {
        "id": "V4FIL2gxyH2X",
        "colab_type": "code",
        "colab": {}
      },
      "source": [
        "df2['no.of flights'] = df2['no.of flights'] - df2['no.of flights'].shift(1)"
      ],
      "execution_count": 0,
      "outputs": []
    },
    {
      "cell_type": "code",
      "metadata": {
        "id": "3k7zCgdjy5j0",
        "colab_type": "code",
        "colab": {}
      },
      "source": [
        "from fbprophet import Prophet"
      ],
      "execution_count": 0,
      "outputs": []
    },
    {
      "cell_type": "code",
      "metadata": {
        "id": "3WJihMoLzBBM",
        "colab_type": "code",
        "colab": {}
      },
      "source": [
        "dir(Prophet)"
      ],
      "execution_count": 0,
      "outputs": []
    },
    {
      "cell_type": "code",
      "metadata": {
        "id": "Zd_oXvvl2rXH",
        "colab_type": "code",
        "colab": {}
      },
      "source": [
        "df2.columns"
      ],
      "execution_count": 0,
      "outputs": []
    },
    {
      "cell_type": "code",
      "metadata": {
        "id": "pMvi1TuE3Ugn",
        "colab_type": "code",
        "colab": {}
      },
      "source": [
        "df2.rename(columns={'date':'ds','no.of flights':'y'},inplace=True)"
      ],
      "execution_count": 0,
      "outputs": []
    },
    {
      "cell_type": "code",
      "metadata": {
        "id": "0OxbgOlm60JU",
        "colab_type": "code",
        "colab": {}
      },
      "source": [
        "df2"
      ],
      "execution_count": 0,
      "outputs": []
    },
    {
      "cell_type": "code",
      "metadata": {
        "id": "1fVeQO1G62yS",
        "colab_type": "code",
        "colab": {}
      },
      "source": [
        "df2=df2[3:]"
      ],
      "execution_count": 0,
      "outputs": []
    },
    {
      "cell_type": "code",
      "metadata": {
        "id": "ZZIKfjMy72z1",
        "colab_type": "code",
        "colab": {}
      },
      "source": [
        "df2"
      ],
      "execution_count": 0,
      "outputs": []
    },
    {
      "cell_type": "code",
      "metadata": {
        "id": "0A--Irjx74CM",
        "colab_type": "code",
        "colab": {}
      },
      "source": [
        "model=Prophet()"
      ],
      "execution_count": 0,
      "outputs": []
    },
    {
      "cell_type": "code",
      "metadata": {
        "id": "4k9AVx5R8PRh",
        "colab_type": "code",
        "colab": {}
      },
      "source": [
        "model.fit(df2)"
      ],
      "execution_count": 0,
      "outputs": []
    },
    {
      "cell_type": "code",
      "metadata": {
        "id": "75soa16M9S_-",
        "colab_type": "code",
        "colab": {}
      },
      "source": [
        "df2.shape"
      ],
      "execution_count": 0,
      "outputs": []
    },
    {
      "cell_type": "code",
      "metadata": {
        "id": "y4bhjMoi-FHm",
        "colab_type": "code",
        "colab": {}
      },
      "source": [
        "future_dates=model.make_future_dataframe(periods=365)"
      ],
      "execution_count": 0,
      "outputs": []
    },
    {
      "cell_type": "code",
      "metadata": {
        "id": "PQo8di5E-YD3",
        "colab_type": "code",
        "colab": {}
      },
      "source": [
        "future_dates"
      ],
      "execution_count": 0,
      "outputs": []
    },
    {
      "cell_type": "code",
      "metadata": {
        "id": "cLEXYx7v-aOo",
        "colab_type": "code",
        "colab": {}
      },
      "source": [
        "future_dates.shape"
      ],
      "execution_count": 0,
      "outputs": []
    },
    {
      "cell_type": "code",
      "metadata": {
        "id": "9KBg6FUd-mvt",
        "colab_type": "code",
        "colab": {}
      },
      "source": [
        "pred=model.predict(future_dates)"
      ],
      "execution_count": 0,
      "outputs": []
    },
    {
      "cell_type": "code",
      "metadata": {
        "id": "1kLKzUuG_Avz",
        "colab_type": "code",
        "colab": {}
      },
      "source": [
        "pred"
      ],
      "execution_count": 0,
      "outputs": []
    },
    {
      "cell_type": "code",
      "metadata": {
        "id": "_y_p12in_Dm4",
        "colab_type": "code",
        "colab": {}
      },
      "source": [
        "model.plot(pred)"
      ],
      "execution_count": 0,
      "outputs": []
    },
    {
      "cell_type": "code",
      "metadata": {
        "id": "4rrYeurz_KrI",
        "colab_type": "code",
        "colab": {}
      },
      "source": [
        ""
      ],
      "execution_count": 0,
      "outputs": []
    },
    {
      "cell_type": "markdown",
      "metadata": {
        "id": "CFASRvjOBcxd",
        "colab_type": "text"
      },
      "source": [
        "black dots=actual data points\n",
        "darkblue=forecast data points\n",
        "light blue= boundaries"
      ]
    },
    {
      "cell_type": "code",
      "metadata": {
        "id": "XJZBSQxcB5BK",
        "colab_type": "code",
        "colab": {}
      },
      "source": [
        "model.plot_components(pred)"
      ],
      "execution_count": 0,
      "outputs": []
    },
    {
      "cell_type": "code",
      "metadata": {
        "id": "TDN4jPs_CKb5",
        "colab_type": "code",
        "colab": {}
      },
      "source": [
        "from fbprophet.diagnostics import cross_validation"
      ],
      "execution_count": 0,
      "outputs": []
    },
    {
      "cell_type": "code",
      "metadata": {
        "id": "V1ZiYxxxGWX8",
        "colab_type": "code",
        "colab": {}
      },
      "source": [
        "df2.shape"
      ],
      "execution_count": 0,
      "outputs": []
    },
    {
      "cell_type": "code",
      "metadata": {
        "id": "jkJkeSDoGZxw",
        "colab_type": "code",
        "colab": {}
      },
      "source": [
        "31*365"
      ],
      "execution_count": 0,
      "outputs": []
    },
    {
      "cell_type": "code",
      "metadata": {
        "id": "_sxXqkUPCzVs",
        "colab_type": "code",
        "colab": {}
      },
      "source": [
        "cv=cross_validation(model,initial='11315 days',period='180 days',horizon='365 days')"
      ],
      "execution_count": 0,
      "outputs": []
    },
    {
      "cell_type": "code",
      "metadata": {
        "id": "2J_CdG5jGeFJ",
        "colab_type": "code",
        "colab": {}
      },
      "source": [
        "cv=cross_validation(model,initial='31 days',period='180 days',horizon='365 days')"
      ],
      "execution_count": 0,
      "outputs": []
    },
    {
      "cell_type": "code",
      "metadata": {
        "id": "ARq7ZZxJGzit",
        "colab_type": "code",
        "colab": {}
      },
      "source": [
        "cv"
      ],
      "execution_count": 0,
      "outputs": []
    },
    {
      "cell_type": "markdown",
      "metadata": {
        "id": "b6GH80HFL58i",
        "colab_type": "text"
      },
      "source": [
        "cut off how far the future prediction was"
      ]
    },
    {
      "cell_type": "code",
      "metadata": {
        "id": "_Dlodjg9KONR",
        "colab_type": "code",
        "colab": {}
      },
      "source": [
        "from fbprophet.diagnostics import performance_metrics"
      ],
      "execution_count": 0,
      "outputs": []
    },
    {
      "cell_type": "code",
      "metadata": {
        "id": "M3-kZk3rLV7a",
        "colab_type": "code",
        "colab": {}
      },
      "source": [
        "df_pm=performance_metrics(cv)"
      ],
      "execution_count": 0,
      "outputs": []
    },
    {
      "cell_type": "code",
      "metadata": {
        "id": "5mWT5MYdLkpo",
        "colab_type": "code",
        "colab": {}
      },
      "source": [
        "df_pm"
      ],
      "execution_count": 0,
      "outputs": []
    },
    {
      "cell_type": "code",
      "metadata": {
        "id": "yKxl2VA-MQ77",
        "colab_type": "code",
        "colab": {}
      },
      "source": [
        "from fbprophet.plot import plot_cross_validation_metric"
      ],
      "execution_count": 0,
      "outputs": []
    },
    {
      "cell_type": "code",
      "metadata": {
        "id": "6lb_qPLoLyTp",
        "colab_type": "code",
        "colab": {}
      },
      "source": [
        "plot_cross_validation_metric(cv,metric='rmse')"
      ],
      "execution_count": 0,
      "outputs": []
    },
    {
      "cell_type": "code",
      "metadata": {
        "id": "ONw3TlDQMn2E",
        "colab_type": "code",
        "colab": {}
      },
      "source": [
        ""
      ],
      "execution_count": 0,
      "outputs": []
    }
  ]
}